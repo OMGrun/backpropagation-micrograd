{
 "cells": [
  {
   "cell_type": "markdown",
   "id": "79812179-88d4-4400-a36d-10129ba16d04",
   "metadata": {},
   "source": [
    "# What is micrograd?"
   ]
  },
  {
   "cell_type": "markdown",
   "id": "f6919d64-b6b4-41e1-87f0-eb4341f632bf",
   "metadata": {},
   "source": [
    "It is an autograd which implements backpropagation. \\\n",
    "Ok, so what is backpropagation?\n",
    "- Backpropagation allows you to efficiently evaluate the gradient of some kind of a <u>loss function</u> with respect to the weights of a neural network\n",
    "- This allows us to tune the weights of the network to minimise the loss function and hence improving the accuracy of the network\n",
    "- It is the mathematical core of any NN(Neural network) library!\n"
   ]
  },
  {
   "cell_type": "code",
   "execution_count": null,
   "id": "fc602797",
   "metadata": {},
   "outputs": [],
   "source": []
  }
 ],
 "metadata": {
  "kernelspec": {
   "display_name": "Python 3",
   "language": "python",
   "name": "python3"
  },
  "language_info": {
   "codemirror_mode": {
    "name": "ipython",
    "version": 3
   },
   "file_extension": ".py",
   "mimetype": "text/x-python",
   "name": "python",
   "nbconvert_exporter": "python",
   "pygments_lexer": "ipython3",
   "version": "3.12.7"
  }
 },
 "nbformat": 4,
 "nbformat_minor": 5
}
